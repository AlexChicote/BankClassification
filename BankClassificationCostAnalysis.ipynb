{
 "cells": [
  {
   "cell_type": "code",
   "execution_count": 1,
   "id": "88ca24fb-c065-403c-876d-03ba6211bc99",
   "metadata": {},
   "outputs": [
    {
     "name": "stdout",
     "output_type": "stream",
     "text": [
      "DONE\n"
     ]
    }
   ],
   "source": [
    "import pandas as pd\n",
    "import numpy as np\n",
    "import pickle\n",
    "import os\n",
    "\n",
    "\n",
    "from sklearn.metrics import make_scorer, recall_score, f1_score, accuracy_score, ConfusionMatrixDisplay, confusion_matrix\n",
    "from sklearn.model_selection import TunedThresholdClassifierCV\n",
    "\n",
    "\n",
    "import seaborn as sns\n",
    "import matplotlib.pyplot as plt\n",
    "%matplotlib inline\n",
    "\n",
    "import importlib\n",
    "import scripts.variables as var\n",
    "import playsound\n",
    "\n",
    "\n",
    "def play_done_message():\n",
    "    playsound.playsound(\"./data/MamaDoIt.mp3\")\n",
    "\n",
    "\n",
    "importlib.reload(var)\n",
    "\n",
    "\n",
    "print('DONE')"
   ]
  },
  {
   "cell_type": "code",
   "execution_count": 2,
   "id": "e2544ac3-06f5-4e43-a3ee-9bb24dfc3353",
   "metadata": {},
   "outputs": [],
   "source": [
    "#Functions\n",
    "def custom_score(y_test, predictions, fp_cost=1, fn_cost=1):\n",
    "    tn, fp, fn, tp = confusion_matrix(y_test, predictions).ravel()\n",
    "    return fn*fn_cost + fp * fp_cost\n",
    "\n",
    "def custom_score_fn_doubled(y_test, predictions, fp_cost=1, fn_cost=2):\n",
    "    tn, fp, fn, tp = confusion_matrix(y_test, predictions).ravel()\n",
    "    return fn*fn_cost + fp * fp_cost"
   ]
  },
  {
   "cell_type": "markdown",
   "id": "9f97fae9-e8ed-4901-a8e7-4e3975cca00f",
   "metadata": {},
   "source": [
    "# Goal.\n",
    "> Once you selected your model, what about to incorporate the cost. What if I am able (a HUGE if) to measure the cost of errors? I estate this: the cost of missing one potential \"yes\" is double (2) compared to the cost of calling a client that would not contract the product (1)."
   ]
  },
  {
   "cell_type": "code",
   "execution_count": 13,
   "id": "ae7ed41d-3517-43d8-a1d8-049ff82297ea",
   "metadata": {},
   "outputs": [],
   "source": [
    "with open ('model_pickled.pkl','rb') as MODEL:\n",
    "    data_to_save=pickle.load(MODEL)"
   ]
  },
  {
   "cell_type": "code",
   "execution_count": 14,
   "id": "ac0656b5-19d1-4f64-bbe9-85093beaa502",
   "metadata": {},
   "outputs": [],
   "source": [
    "pipeline, X_test, y_test,X_train,y_train, cv=data_to_save\n",
    "preds=pipeline.predict(X_test)"
   ]
  },
  {
   "cell_type": "code",
   "execution_count": 16,
   "id": "6eade4a4-6b8f-4f7c-8fad-ff23ec36ca4a",
   "metadata": {},
   "outputs": [
    {
     "data": {
      "image/png": "[encoded data removed]",
      "text/plain": [
       "<Figure size 640x480 with 2 Axes>"
      ]
     },
     "metadata": {},
     "output_type": "display_data"
    }
   ],
   "source": [
    "_ = ConfusionMatrixDisplay.from_estimator(pipeline, X_test, y_test)"
   ]
  },
  {
   "cell_type": "markdown",
   "id": "e2e72674-29b3-4ebe-9e8b-35239953019c",
   "metadata": {},
   "source": [
    "## The cost when errors have the same weight"
   ]
  },
  {
   "cell_type": "code",
   "execution_count": 7,
   "id": "328909db-ff1a-47a2-93a1-f46cca41973a",
   "metadata": {},
   "outputs": [
    {
     "name": "stdout",
     "output_type": "stream",
     "text": [
      "Cost:  1828\n"
     ]
    }
   ],
   "source": [
    "#let's evaluate the Falses Positives and Negatives\n",
    "#Being the cost of FP and FN the same and TP and TN having no cost at all\n",
    "tn, fp, fn, tp = confusion_matrix(y_test,preds).ravel() \n",
    "print('Cost: ', custom_score(y_test, preds))"
   ]
  },
  {
   "cell_type": "markdown",
   "id": "67ae2817-59ac-4061-b0aa-259900adcae0",
   "metadata": {},
   "source": [
    "### Let's do fn=2 and fp=1"
   ]
  },
  {
   "cell_type": "code",
   "execution_count": 20,
   "id": "717fa270-b898-4094-9662-940f5b6e9eae",
   "metadata": {},
   "outputs": [
    {
     "name": "stdout",
     "output_type": "stream",
     "text": [
      "Cost:  2263\n"
     ]
    }
   ],
   "source": [
    "print('Cost: ', custom_score(y_test,preds,fn_cost=2))"
   ]
  },
  {
   "cell_type": "code",
   "execution_count": 21,
   "id": "c50f8b3b-d1b9-4016-9890-345cf695b229",
   "metadata": {},
   "outputs": [
    {
     "name": "stdout",
     "output_type": "stream",
     "text": [
      "Tuned decision threshold: 0.805\n",
      "Custom score: 1106.00\n"
     ]
    }
   ],
   "source": [
    "custom_scorer = make_scorer(\n",
    "    custom_score_fn_doubled, response_method=\"predict\", greater_is_better=False\n",
    ")\n",
    "tuned_classifier = TunedThresholdClassifierCV(\n",
    "    pipeline, cv=cv, scoring=custom_scorer\n",
    ").fit(X_train, y_train)\n",
    "\n",
    "print(f\"Tuned decision threshold: {tuned_classifier.best_threshold_:.3f}\")\n",
    "print(f\"Custom score: {custom_score(y_test, tuned_classifier.predict(X_test),):.2f}\")"
   ]
  },
  {
   "cell_type": "code",
   "execution_count": 227,
   "id": "2e570b67-9bbb-4eb9-a1e5-fc1dda324c27",
   "metadata": {},
   "outputs": [
    {
     "name": "stdout",
     "output_type": "stream",
     "text": [
      "cutoff:  0.8046774143871709\n"
     ]
    },
    {
     "data": {
      "text/plain": [
       "[(0, array([0.62071063, 0.37928937])),\n",
       " (0, array([0.83120533, 0.16879467])),\n",
       " (0, array([0.7506804, 0.2493196])),\n",
       " (0, array([0.66437279, 0.33562721])),\n",
       " (0, array([0.67420755, 0.32579245])),\n",
       " (0, array([0.74846008, 0.25153992])),\n",
       " (0, array([0.75110312, 0.24889688])),\n",
       " (0, array([0.47300887, 0.52699113])),\n",
       " (1, array([0.12481737, 0.87518263])),\n",
       " (0, array([0.81643921, 0.18356079])),\n",
       " (0, array([0.7650674, 0.2349326])),\n",
       " (0, array([0.75093143, 0.24906857])),\n",
       " (0, array([0.35115009, 0.64884991])),\n",
       " (0, array([0.68669324, 0.31330676])),\n",
       " (0, array([0.47525965, 0.52474035])),\n",
       " (0, array([0.77915437, 0.22084563])),\n",
       " (0, array([0.74134249, 0.25865751])),\n",
       " (0, array([0.72931949, 0.27068051])),\n",
       " (0, array([0.69541811, 0.30458189])),\n",
       " (0, array([0.7144235, 0.2855765]))]"
      ]
     },
     "execution_count": 227,
     "metadata": {},
     "output_type": "execute_result"
    }
   ],
   "source": [
    "##checking it out: doing it manually\n",
    "#tn, fp, fn, tp = confusion_matrix(y_test,preds).ravel()\n",
    "print('cutoff: ', tuned_classifier.best_threshold_)\n",
    "tuned_y=tuned_classifier.predict(X_test)\n",
    "tuned_proba=tuned_classifier.predict_proba(X_test)\n",
    "to_compare= list(zip(tuned_y, tuned_proba))\n",
    "to_compare[:20]\n",
    "# tn, fp, fn, tp = confusion_matrix(y_test,tuned_y).ravel()\n",
    "# custom_score(y_test,tuned_y,fn_cost=2)"
   ]
  },
  {
   "cell_type": "code",
   "execution_count": 221,
   "id": "73125c33-132e-42c7-8242-bf8fc588c684",
   "metadata": {},
   "outputs": [
    {
     "name": "stdout",
     "output_type": "stream",
     "text": [
      "Accuracy:  0.8992039800995025\n",
      "Recall:  0.19064430714916153\n"
     ]
    }
   ],
   "source": [
    "tn, fp, fn, tp = confusion_matrix(y_test,tuned_y).ravel()\n",
    "print('Accuracy: ', (tn+tp)/len(tuned_y))\n",
    "print('Recall: ', tp/(tp+fn))"
   ]
  },
  {
   "cell_type": "code",
   "execution_count": 217,
   "id": "bf163574-6a87-46f7-9ecf-b45d0b240a4b",
   "metadata": {},
   "outputs": [
    {
     "data": {
      "image/png": "[encoded data removed]",
      "text/plain": [
       "<Figure size 640x480 with 2 Axes>"
      ]
     },
     "metadata": {},
     "output_type": "display_data"
    }
   ],
   "source": [
    "_ = ConfusionMatrixDisplay.from_predictions(y_test, tuned_y)"
   ]
  },
  {
   "cell_type": "markdown",
   "id": "5fb9f3a7-f8da-4411-b613-1595f5bb7fa2",
   "metadata": {},
   "source": [
    "2. **Using only selected features with SMOTE and Logistic Regression.**"
   ]
  },
  {
   "cell_type": "code",
   "execution_count": 181,
   "id": "38a17f7f-cc2a-4cc9-aefe-2aaaf749de3c",
   "metadata": {},
   "outputs": [
    {
     "name": "stdout",
     "output_type": "stream",
     "text": [
      "My scores in train validation are 0.638 recall,0.439 as per f1 and an accuracy of 0.816\n",
      "As per the test: 0.639 recall, the f1 is 0.44 and its accuracy amounts to 0.817\n"
     ]
    }
   ],
   "source": [
    "all_features=numerical_columns + categorical_columns + boolean_columns\n",
    "X,y =creating_X_y(bank, all_features)\n",
    "selected_features= top_numerical[:-2] + top_categorical[:-2]\n",
    "X=X[selected_features]\n",
    "X_train, X_test, y_train, y_test=train_test_split(X,y,stratify=y, random_state=1992)\n",
    "model=LogisticRegression(max_iter=500)\n",
    "upsampling=SMOTE()\n",
    "scaler=StandardScaler()\n",
    "pipeline=Pipeline([('Scaler',scaler),('SMOTE', upsampling),('Logistic Regression', model)])\n",
    "cv=StratifiedKFold()\n",
    "scoring = {\n",
    "    'accuracy': make_scorer(accuracy_score),\n",
    "    'f1': make_scorer(f1_score),\n",
    "    'recall': make_scorer(recall_score)\n",
    "}\n",
    "scores=cross_validate(pipeline,X_train,y_train, scoring=scoring, cv=cv)\n",
    "print(f'My scores in train validation are {scores[\"test_recall\"].mean().round(3)} recall,{scores[\"test_f1\"].mean().round(3)} as per f1 and an accuracy of {scores[\"test_accuracy\"].mean().round(3)}')\n",
    "pipeline.fit(X_train,y_train)\n",
    "preds_lr=pipeline.predict(X_test)\n",
    "print(f'As per the test: {round(recall_score(y_test,preds_lr),3)} recall, the f1 is {round(f1_score(y_test,preds_lr),3)}\\\n",
    " and its accuracy amounts to {round(accuracy_score(y_test,preds_lr),3)}')"
   ]
  },
  {
   "cell_type": "code",
   "execution_count": null,
   "id": "8c1a9a54-b8f6-457c-b0d8-dc027951e285",
   "metadata": {},
   "outputs": [],
   "source": [
    "#confusion matrix\n"
   ]
  },
  {
   "cell_type": "markdown",
   "id": "cae91085-8bf6-400d-935a-79f9b17cd7a9",
   "metadata": {},
   "source": [
    "> Lost a little bit of recall while gaining some accuracy. Does not worth limiting features. I tried different number of features with similar results. As I reduce the number of features my recall increases up to 72 points while accuracy pays for it going down to 72. It is all well explained looking at f1 score: down to 35 from 44 in the worst case. Something similar happened when I use a downsampler instead of SMOTE"
   ]
  },
  {
   "cell_type": "markdown",
   "id": "c525ffc6-e679-4b79-a17e-738867e33a4a",
   "metadata": {},
   "source": [
    "3. **Moving to random Forest**"
   ]
  },
  {
   "cell_type": "code",
   "execution_count": 180,
   "id": "7935cb55-bce6-458f-a6e0-e3d195f1c5fe",
   "metadata": {},
   "outputs": [
    {
     "name": "stdout",
     "output_type": "stream",
     "text": [
      "My scores in train validation are 0.444 recall,0.436 as per f1 and an accuracy of 0.87\n",
      "As per the test: 0.466 recall, the f1 is 0.441 and its accuracy amounts to 0.867\n"
     ]
    }
   ],
   "source": [
    "all_features=numerical_columns + categorical_columns + boolean_columns\n",
    "X,y =creating_X_y(bank, all_features)\n",
    "selected_features= top_4_numerical + top_10_cat\n",
    "X=X[selected_features]\n",
    "X_train, X_test, y_train, y_test=train_test_split(X,y,stratify=y, random_state=1992)\n",
    "model=RandomForestClassifier()\n",
    "upsampling=SMOTE()\n",
    "scaler=StandardScaler()\n",
    "pipeline=Pipeline([('Scaler',scaler),('SMOTE', upsampling),('random Forest', model)])\n",
    "cv=StratifiedKFold()\n",
    "scoring = {\n",
    "    'accuracy': make_scorer(accuracy_score),\n",
    "    'f1': make_scorer(f1_score),\n",
    "    'recall': make_scorer(recall_score)\n",
    "}\n",
    "scores=cross_validate(pipeline,X_train,y_train, scoring=scoring, cv=cv)\n",
    "print(f'My scores in train validation are {scores[\"test_recall\"].mean().round(3)} recall,{scores[\"test_f1\"].mean().round(3)} as per f1 and an accuracy of {scores[\"test_accuracy\"].mean().round(3)}')\n",
    "pipeline.fit(X_train,y_train)\n",
    "preds_rf=pipeline.predict(X_test)\n",
    "print(f'As per the test: {round(recall_score(y_test,preds_rf),3)} recall, the f1 is {round(f1_score(y_test,preds_rf),3)}\\\n",
    " and its accuracy amounts to {round(accuracy_score(y_test,preds_rf),3)}')"
   ]
  },
  {
   "cell_type": "markdown",
   "id": "f49a0762-45b0-4880-aae8-7bc552e162da",
   "metadata": {},
   "source": [
    "# Summary:\n",
    "1. Using all features seems to me did not generate overfitting.\n",
    "2. Logistic regression and SMOTE are more effective detecting the minority class in exchange of losing some accuracy.\n",
    "3. Must analyze the distribution of FP and FN. "
   ]
  },
  {
   "cell_type": "code",
   "execution_count": null,
   "id": "4f258b86-9e19-4280-901c-4f298b1429cd",
   "metadata": {},
   "outputs": [],
   "source": []
  }
 ],
 "metadata": {
  "kernelspec": {
   "display_name": "Python 3 (ipykernel)",
   "language": "python",
   "name": "python3"
  },
  "language_info": {
   "codemirror_mode": {
    "name": "ipython",
    "version": 3
   },
   "file_extension": ".py",
   "mimetype": "text/x-python",
   "name": "python",
   "nbconvert_exporter": "python",
   "pygments_lexer": "ipython3",
   "version": "3.11.8"
  }
 },
 "nbformat": 4,
 "nbformat_minor": 5
}
