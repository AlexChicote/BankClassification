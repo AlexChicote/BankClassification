{
 "cells": [
  {
   "cell_type": "code",
   "execution_count": 230,
   "id": "88ca24fb-c065-403c-876d-03ba6211bc99",
   "metadata": {},
   "outputs": [
    {
     "name": "stdout",
     "output_type": "stream",
     "text": [
      "DONE\n"
     ]
    }
   ],
   "source": [
    "import pandas as pd\n",
    "import numpy as np\n",
    "import pickle\n",
    "import os\n",
    "\n",
    "from sklearn.model_selection import cross_val_score, train_test_split, StratifiedKFold, cross_validate\n",
    "from sklearn.feature_selection import SelectKBest, chi2, f_classif\n",
    "from sklearn.preprocessing import StandardScaler\n",
    "from sklearn.ensemble import RandomForestClassifier\n",
    "from sklearn.linear_model import LogisticRegression\n",
    "\n",
    "from sklearn.metrics import recall_score, f1_score, accuracy_score, ConfusionMatrixDisplay, confusion_matrix, classification_report\n",
    "\n",
    "from imblearn.over_sampling import SMOTE\n",
    "from imblearn.under_sampling import TomekLinks\n",
    "from imblearn.pipeline import Pipeline\n",
    "\n",
    "\n",
    "import seaborn as sns\n",
    "import matplotlib.pyplot as plt\n",
    "%matplotlib inline\n",
    "\n",
    "import importlib\n",
    "import scripts.variables as var\n",
    "import playsound\n",
    "\n",
    "\n",
    "\"\"\"\n",
    "To beat:\n",
    "\n",
    "ACCURACY:  0.882525697503671\n",
    "RECALL:  0.1708008504606662\n",
    "F1:  0.25078043704474506\n",
    "\n",
    "\"\"\"\n",
    "def play_done_message():\n",
    "    playsound.playsound(\"./data/MamaDoIt.mp3\")\n",
    "\n",
    "\n",
    "importlib.reload(var)\n",
    "\n",
    "\n",
    "print('DONE')"
   ]
  },
  {
   "cell_type": "markdown",
   "id": "4cf9c29d-808d-47a4-a41f-b9cfddbfb87e",
   "metadata": {},
   "source": [
    "[Information about the banking dataset](https://archive.ics.uci.edu/dataset/222/bank+marketing)"
   ]
  },
  {
   "cell_type": "code",
   "execution_count": 213,
   "id": "e2544ac3-06f5-4e43-a3ee-9bb24dfc3353",
   "metadata": {},
   "outputs": [],
   "source": [
    "#Functions\n",
    "def creating_X_y(df: pd.DataFrame,features: list[str],target: str='y'):\n",
    "    \"\"\"Prepares X and y after dummifying\n",
    "    fetuares when necessary\n",
    "    \"\"\"\n",
    "    dummies=[col for col in features if col in categorical_columns]\n",
    "    X=pd.get_dummies(df[features],columns=dummies,dtype=int,drop_first=True)\n",
    "    y=df[target]\n",
    "    return X,y"
   ]
  },
  {
   "cell_type": "code",
   "execution_count": 4,
   "id": "f1fc8a01-c559-47d4-9dfd-3b7f71f5648c",
   "metadata": {},
   "outputs": [
    {
     "name": "stdout",
     "output_type": "stream",
     "text": [
      "Columns with nulls:  ['default', 'housing', 'loan']\n"
     ]
    },
    {
     "data": {
      "text/html": [
       "<div>\n",
       "<style scoped>\n",
       "    .dataframe tbody tr th:only-of-type {\n",
       "        vertical-align: middle;\n",
       "    }\n",
       "\n",
       "    .dataframe tbody tr th {\n",
       "        vertical-align: top;\n",
       "    }\n",
       "\n",
       "    .dataframe thead th {\n",
       "        text-align: right;\n",
       "    }\n",
       "</style>\n",
       "<table border=\"1\" class=\"dataframe\">\n",
       "  <thead>\n",
       "    <tr style=\"text-align: right;\">\n",
       "      <th></th>\n",
       "      <th>age</th>\n",
       "      <th>job</th>\n",
       "      <th>marital</th>\n",
       "      <th>education</th>\n",
       "      <th>default</th>\n",
       "      <th>housing</th>\n",
       "      <th>loan</th>\n",
       "      <th>contact</th>\n",
       "      <th>month</th>\n",
       "      <th>day_of_week</th>\n",
       "      <th>campaign</th>\n",
       "      <th>pdays</th>\n",
       "      <th>previous</th>\n",
       "      <th>poutcome</th>\n",
       "      <th>emp.var.rate</th>\n",
       "      <th>cons.price.idx</th>\n",
       "      <th>cons.conf.idx</th>\n",
       "      <th>euribor3m</th>\n",
       "      <th>nr.employed</th>\n",
       "      <th>y</th>\n",
       "    </tr>\n",
       "  </thead>\n",
       "  <tbody>\n",
       "    <tr>\n",
       "      <th>dataType</th>\n",
       "      <td>int64</td>\n",
       "      <td>object</td>\n",
       "      <td>object</td>\n",
       "      <td>object</td>\n",
       "      <td>float64</td>\n",
       "      <td>float64</td>\n",
       "      <td>float64</td>\n",
       "      <td>object</td>\n",
       "      <td>object</td>\n",
       "      <td>object</td>\n",
       "      <td>int64</td>\n",
       "      <td>int64</td>\n",
       "      <td>int64</td>\n",
       "      <td>object</td>\n",
       "      <td>float64</td>\n",
       "      <td>float64</td>\n",
       "      <td>float64</td>\n",
       "      <td>float64</td>\n",
       "      <td>float64</td>\n",
       "      <td>int64</td>\n",
       "    </tr>\n",
       "  </tbody>\n",
       "</table>\n",
       "</div>"
      ],
      "text/plain": [
       "            age     job marital education  default  housing     loan contact  \\\n",
       "dataType  int64  object  object    object  float64  float64  float64  object   \n",
       "\n",
       "           month day_of_week campaign  pdays previous poutcome emp.var.rate  \\\n",
       "dataType  object      object    int64  int64    int64   object      float64   \n",
       "\n",
       "         cons.price.idx cons.conf.idx euribor3m nr.employed      y  \n",
       "dataType        float64       float64   float64     float64  int64  "
      ]
     },
     "execution_count": 4,
     "metadata": {},
     "output_type": "execute_result"
    }
   ],
   "source": [
    "bank=pd.read_csv(var.pathname)\n",
    "columns_with_nulls=list(bank.isnull().sum()[bank.isnull().sum()>0].index)\n",
    "print(\"Columns with nulls: \",columns_with_nulls)\n",
    "\n",
    "#Default\n",
    "bank['default'].value_counts(dropna=False)\n",
    "#Most likely outcome is that this columns does not matter. No information about default.\n",
    "#it is likely that they have no credit open. Will asign -1\n",
    "bank['default']=bank['default'].fillna(-1)\n",
    "\n",
    "#Housing\n",
    "bank['housing'].value_counts(dropna=False)\n",
    "\n",
    "#Loan\n",
    "bank['loan'].value_counts(dropna=False)\n",
    "\n",
    "##Dropping nulls for housing and loan. Consistent rows. Two birds one shot\n",
    "bank[(bank.loan.isnull())&(bank.housing.isnull())].shape[0]\n",
    "bank=bank.dropna(subset=['housing', 'loan'])\n",
    "bank.isnull().sum().sum()\n",
    "\n",
    "##CategoricalColumns\n",
    "dtypes_df=pd.DataFrame(bank.dtypes, columns=['dataType'])\n",
    "dtypes_df.T"
   ]
  },
  {
   "cell_type": "code",
   "execution_count": 29,
   "id": "f694713e-07f3-4b48-a2bb-9ee6da182ba4",
   "metadata": {},
   "outputs": [
    {
     "name": "stdout",
     "output_type": "stream",
     "text": [
      "CAT COLUMNS:  ['job', 'marital', 'education', 'default', 'month', 'day_of_week', 'poutcome'] \n",
      " NUM COLUMNS:  ['age', 'campaign', 'pdays', 'emp.var.rate', 'cons.price.idx', 'cons.conf.idx', 'euribor3m', 'nr.employed'] \n",
      " BOOL COLUMNS:  ['housing', 'loan', 'is_cellular', 'previous', 'is_cellular']\n"
     ]
    }
   ],
   "source": [
    "##Classifying features\n",
    "categorical_list=list(dtypes_df[dtypes_df.dataType=='object'].index)\n",
    "pending_columns=[col for col in bank.columns if col not in categorical_list]\n",
    "#bank['previous']=(bank['previous']>0).astype(int)\n",
    "boolean_columns=[]\n",
    "numerical_columns=[]\n",
    "categorical_columns=[]\n",
    "for col in bank.columns:\n",
    "    #print(col.upper())\n",
    "    if bank[col].nunique() ==2:\n",
    "        if col not in categorical_list:\n",
    "            boolean_columns.append(col)\n",
    "        else:\n",
    "            pos_value=bank[col].value_counts().index[0]\n",
    "            bank[f'is_{pos_value}'] = [1 if value==pos_value else 0 for value in bank[col]]\n",
    "            boolean_columns.append(f'is_{pos_value}')\n",
    "    elif col in categorical_list or bank[col].nunique()<5:#(bank[col].nunique() <5):\n",
    "        #print(col.upper(), bank[col].unique())\n",
    "        categorical_columns.append(col)\n",
    "        #print(\"CAT\",categorical_columns)\n",
    "    else:\n",
    "        numerical_columns.append(col)\n",
    "        #print(\"NUM\",numerical_columns)\n",
    "boolean_columns.remove('y')\n",
    "print(\"CAT COLUMNS: \",categorical_columns,'\\n',\"NUM COLUMNS: \", numerical_columns,'\\n',\n",
    "     'BOOL COLUMNS: ',boolean_columns)"
   ]
  },
  {
   "cell_type": "markdown",
   "id": "9131dc9c-1176-4709-823e-4c38616ba0cb",
   "metadata": {},
   "source": [
    "\n",
    "<a id=\"top\"></a>\n",
    "<div class=\"alert alert-block alert-warning\">\n",
    "<b>Categorical Columns:</b> Will proceed to analyze each column one by one\n",
    "</div>\n",
    "\n",
    "> Doing crosstabs for all categorical columns to see if I detect some subdivisions that can be used as a thorough predictor.\n",
    "\n",
    "\n",
    "1. [Jobs.](#jobs) Students and retired are more likely to buy.\n",
    "2. [Marital.](#marital) Nothing relevant. No deviation seen in the crosstab.\n",
    "3. [Education.](#education) Illiterate for boolean. It is the only one to highlight in the crosstab\n",
    "4. [Contact. Binary, no further exploration](#contact) Nothing to highlight.\n",
    "6. [Month, Day of week.](#dayweek) Month is interesting. If I divided by its count, Dec exceeds the rest and worths to bin. NOthing at all in the weekday front.\n",
    "7. [poutcome.](#pout) Previous succes is important based on crosstabs.\n",
    "8. [Default/Housing/Loan.](#default) No subclasses. About default: It only worths pointing out when it comes to default 1 but it only covers 3 cases.\n",
    "11. [Previous.](#previous) Good predictor. You tend to call people that already bought the product."
   ]
  },
  {
   "cell_type": "markdown",
   "id": "46054fc4-ab40-412d-8063-4bbcf34486a2",
   "metadata": {},
   "source": [
    "<a id=\"jobs\"></a>\n",
    "1. Jobs"
   ]
  },
  {
   "cell_type": "code",
   "execution_count": 6,
   "id": "4802b5aa-111e-4ebb-baca-f6df34de3e90",
   "metadata": {},
   "outputs": [
    {
     "data": {
      "text/html": [
       "<style type=\"text/css\">\n",
       "#T_9d758_row0_col1, #T_9d758_row1_col8 {\n",
       "  background-color: salmon;\n",
       "}\n",
       "#T_9d758_row0_col8, #T_9d758_row1_col1 {\n",
       "  background-color: green;\n",
       "}\n",
       "</style>\n",
       "<table id=\"T_9d758\">\n",
       "  <thead>\n",
       "    <tr>\n",
       "      <th class=\"index_name level0\" >job</th>\n",
       "      <th id=\"T_9d758_level0_col0\" class=\"col_heading level0 col0\" >admin.</th>\n",
       "      <th id=\"T_9d758_level0_col1\" class=\"col_heading level0 col1\" >blue-collar</th>\n",
       "      <th id=\"T_9d758_level0_col2\" class=\"col_heading level0 col2\" >entrepreneur</th>\n",
       "      <th id=\"T_9d758_level0_col3\" class=\"col_heading level0 col3\" >housemaid</th>\n",
       "      <th id=\"T_9d758_level0_col4\" class=\"col_heading level0 col4\" >management</th>\n",
       "      <th id=\"T_9d758_level0_col5\" class=\"col_heading level0 col5\" >retired</th>\n",
       "      <th id=\"T_9d758_level0_col6\" class=\"col_heading level0 col6\" >self-employed</th>\n",
       "      <th id=\"T_9d758_level0_col7\" class=\"col_heading level0 col7\" >services</th>\n",
       "      <th id=\"T_9d758_level0_col8\" class=\"col_heading level0 col8\" >student</th>\n",
       "      <th id=\"T_9d758_level0_col9\" class=\"col_heading level0 col9\" >technician</th>\n",
       "      <th id=\"T_9d758_level0_col10\" class=\"col_heading level0 col10\" >unemployed</th>\n",
       "      <th id=\"T_9d758_level0_col11\" class=\"col_heading level0 col11\" >unknown</th>\n",
       "    </tr>\n",
       "    <tr>\n",
       "      <th class=\"index_name level0\" >y</th>\n",
       "      <th class=\"blank col0\" >&nbsp;</th>\n",
       "      <th class=\"blank col1\" >&nbsp;</th>\n",
       "      <th class=\"blank col2\" >&nbsp;</th>\n",
       "      <th class=\"blank col3\" >&nbsp;</th>\n",
       "      <th class=\"blank col4\" >&nbsp;</th>\n",
       "      <th class=\"blank col5\" >&nbsp;</th>\n",
       "      <th class=\"blank col6\" >&nbsp;</th>\n",
       "      <th class=\"blank col7\" >&nbsp;</th>\n",
       "      <th class=\"blank col8\" >&nbsp;</th>\n",
       "      <th class=\"blank col9\" >&nbsp;</th>\n",
       "      <th class=\"blank col10\" >&nbsp;</th>\n",
       "      <th class=\"blank col11\" >&nbsp;</th>\n",
       "    </tr>\n",
       "  </thead>\n",
       "  <tbody>\n",
       "    <tr>\n",
       "      <th id=\"T_9d758_level0_row0\" class=\"row_heading level0 row0\" >0</th>\n",
       "      <td id=\"T_9d758_row0_col0\" class=\"data row0 col0\" >0.870231</td>\n",
       "      <td id=\"T_9d758_row0_col1\" class=\"data row0 col1\" >0.930996</td>\n",
       "      <td id=\"T_9d758_row0_col2\" class=\"data row0 col2\" >0.914789</td>\n",
       "      <td id=\"T_9d758_row0_col3\" class=\"data row0 col3\" >0.900097</td>\n",
       "      <td id=\"T_9d758_row0_col4\" class=\"data row0 col4\" >0.886435</td>\n",
       "      <td id=\"T_9d758_row0_col5\" class=\"data row0 col5\" >0.747017</td>\n",
       "      <td id=\"T_9d758_row0_col6\" class=\"data row0 col6\" >0.893555</td>\n",
       "      <td id=\"T_9d758_row0_col7\" class=\"data row0 col7\" >0.918304</td>\n",
       "      <td id=\"T_9d758_row0_col8\" class=\"data row0 col8\" >0.690141</td>\n",
       "      <td id=\"T_9d758_row0_col9\" class=\"data row0 col9\" >0.892511</td>\n",
       "      <td id=\"T_9d758_row0_col10\" class=\"data row0 col10\" >0.855117</td>\n",
       "      <td id=\"T_9d758_row0_col11\" class=\"data row0 col11\" >0.886154</td>\n",
       "    </tr>\n",
       "    <tr>\n",
       "      <th id=\"T_9d758_level0_row1\" class=\"row_heading level0 row1\" >1</th>\n",
       "      <td id=\"T_9d758_row1_col0\" class=\"data row1 col0\" >0.129769</td>\n",
       "      <td id=\"T_9d758_row1_col1\" class=\"data row1 col1\" >0.069004</td>\n",
       "      <td id=\"T_9d758_row1_col2\" class=\"data row1 col2\" >0.085211</td>\n",
       "      <td id=\"T_9d758_row1_col3\" class=\"data row1 col3\" >0.099903</td>\n",
       "      <td id=\"T_9d758_row1_col4\" class=\"data row1 col4\" >0.113565</td>\n",
       "      <td id=\"T_9d758_row1_col5\" class=\"data row1 col5\" >0.252983</td>\n",
       "      <td id=\"T_9d758_row1_col6\" class=\"data row1 col6\" >0.106445</td>\n",
       "      <td id=\"T_9d758_row1_col7\" class=\"data row1 col7\" >0.081696</td>\n",
       "      <td id=\"T_9d758_row1_col8\" class=\"data row1 col8\" >0.309859</td>\n",
       "      <td id=\"T_9d758_row1_col9\" class=\"data row1 col9\" >0.107489</td>\n",
       "      <td id=\"T_9d758_row1_col10\" class=\"data row1 col10\" >0.144883</td>\n",
       "      <td id=\"T_9d758_row1_col11\" class=\"data row1 col11\" >0.113846</td>\n",
       "    </tr>\n",
       "  </tbody>\n",
       "</table>\n"
      ],
      "text/plain": [
       "<pandas.io.formats.style.Styler at 0x103d9c390>"
      ]
     },
     "execution_count": 6,
     "metadata": {},
     "output_type": "execute_result"
    }
   ],
   "source": [
    "jobs_df=pd.crosstab(bank.y,bank.job,normalize='columns')\n",
    "jobs_df.style.highlight_max(color='salmon',axis=1)\\\n",
    "        .highlight_min(color='green',axis=1)"
   ]
  },
  {
   "cell_type": "markdown",
   "id": "b8e7c58d-0228-4291-9a37-e470693734d7",
   "metadata": {},
   "source": [
    "[Top](#top)"
   ]
  },
  {
   "cell_type": "markdown",
   "id": "15e945be-dd02-439e-ac25-4425b7dac440",
   "metadata": {},
   "source": [
    "<a id=\"marital\"></a>\n",
    "2. Marital"
   ]
  },
  {
   "cell_type": "code",
   "execution_count": 8,
   "id": "293ae7ca-d4c0-4686-ab64-aec7d542335d",
   "metadata": {},
   "outputs": [
    {
     "data": {
      "text/html": [
       "<div>\n",
       "<style scoped>\n",
       "    .dataframe tbody tr th:only-of-type {\n",
       "        vertical-align: middle;\n",
       "    }\n",
       "\n",
       "    .dataframe tbody tr th {\n",
       "        vertical-align: top;\n",
       "    }\n",
       "\n",
       "    .dataframe thead th {\n",
       "        text-align: right;\n",
       "    }\n",
       "</style>\n",
       "<table border=\"1\" class=\"dataframe\">\n",
       "  <thead>\n",
       "    <tr style=\"text-align: right;\">\n",
       "      <th>marital</th>\n",
       "      <th>divorced</th>\n",
       "      <th>married</th>\n",
       "      <th>single</th>\n",
       "      <th>unknown</th>\n",
       "    </tr>\n",
       "    <tr>\n",
       "      <th>y</th>\n",
       "      <th></th>\n",
       "      <th></th>\n",
       "      <th></th>\n",
       "      <th></th>\n",
       "    </tr>\n",
       "  </thead>\n",
       "  <tbody>\n",
       "    <tr>\n",
       "      <th>0</th>\n",
       "      <td>0.895792</td>\n",
       "      <td>0.898439</td>\n",
       "      <td>0.85994</td>\n",
       "      <td>0.848101</td>\n",
       "    </tr>\n",
       "    <tr>\n",
       "      <th>1</th>\n",
       "      <td>0.104208</td>\n",
       "      <td>0.101561</td>\n",
       "      <td>0.14006</td>\n",
       "      <td>0.151899</td>\n",
       "    </tr>\n",
       "  </tbody>\n",
       "</table>\n",
       "</div>"
      ],
      "text/plain": [
       "marital  divorced   married   single   unknown\n",
       "y                                             \n",
       "0        0.895792  0.898439  0.85994  0.848101\n",
       "1        0.104208  0.101561  0.14006  0.151899"
      ]
     },
     "execution_count": 8,
     "metadata": {},
     "output_type": "execute_result"
    }
   ],
   "source": [
    "marital_df=pd.crosstab(bank.y,bank.marital,normalize='columns')\n",
    "##Nothing to highlight\n",
    "marital_df"
   ]
  },
  {
   "cell_type": "markdown",
   "id": "19e12c1c-a02a-4860-ac05-9b9ced6366ce",
   "metadata": {},
   "source": [
    "[Top](#top)"
   ]
  },
  {
   "cell_type": "markdown",
   "id": "867798c9-427d-4f90-ae63-87023115b35c",
   "metadata": {},
   "source": [
    "<a id=\"education\"></a>\n",
    "3. Education."
   ]
  },
  {
   "cell_type": "code",
   "execution_count": 9,
   "id": "864ad009-f210-404a-ac74-997b6b1cffe5",
   "metadata": {},
   "outputs": [
    {
     "data": {
      "text/html": [
       "<div>\n",
       "<style scoped>\n",
       "    .dataframe tbody tr th:only-of-type {\n",
       "        vertical-align: middle;\n",
       "    }\n",
       "\n",
       "    .dataframe tbody tr th {\n",
       "        vertical-align: top;\n",
       "    }\n",
       "\n",
       "    .dataframe thead th {\n",
       "        text-align: right;\n",
       "    }\n",
       "</style>\n",
       "<table border=\"1\" class=\"dataframe\">\n",
       "  <thead>\n",
       "    <tr style=\"text-align: right;\">\n",
       "      <th>education</th>\n",
       "      <th>basic.4y</th>\n",
       "      <th>basic.6y</th>\n",
       "      <th>basic.9y</th>\n",
       "      <th>high.school</th>\n",
       "      <th>illiterate</th>\n",
       "      <th>professional.course</th>\n",
       "      <th>university.degree</th>\n",
       "      <th>unknown</th>\n",
       "    </tr>\n",
       "    <tr>\n",
       "      <th>y</th>\n",
       "      <th></th>\n",
       "      <th></th>\n",
       "      <th></th>\n",
       "      <th></th>\n",
       "      <th></th>\n",
       "      <th></th>\n",
       "      <th></th>\n",
       "      <th></th>\n",
       "    </tr>\n",
       "  </thead>\n",
       "  <tbody>\n",
       "    <tr>\n",
       "      <th>0</th>\n",
       "      <td>0.897265</td>\n",
       "      <td>0.918907</td>\n",
       "      <td>0.921955</td>\n",
       "      <td>0.891339</td>\n",
       "      <td>0.777778</td>\n",
       "      <td>0.88687</td>\n",
       "      <td>0.862417</td>\n",
       "      <td>0.854524</td>\n",
       "    </tr>\n",
       "    <tr>\n",
       "      <th>1</th>\n",
       "      <td>0.102735</td>\n",
       "      <td>0.081093</td>\n",
       "      <td>0.078045</td>\n",
       "      <td>0.108661</td>\n",
       "      <td>0.222222</td>\n",
       "      <td>0.11313</td>\n",
       "      <td>0.137583</td>\n",
       "      <td>0.145476</td>\n",
       "    </tr>\n",
       "  </tbody>\n",
       "</table>\n",
       "</div>"
      ],
      "text/plain": [
       "education  basic.4y  basic.6y  basic.9y  high.school  illiterate  \\\n",
       "y                                                                  \n",
       "0          0.897265  0.918907  0.921955     0.891339    0.777778   \n",
       "1          0.102735  0.081093  0.078045     0.108661    0.222222   \n",
       "\n",
       "education  professional.course  university.degree   unknown  \n",
       "y                                                            \n",
       "0                      0.88687           0.862417  0.854524  \n",
       "1                      0.11313           0.137583  0.145476  "
      ]
     },
     "execution_count": 9,
     "metadata": {},
     "output_type": "execute_result"
    }
   ],
   "source": [
    "education_df=pd.crosstab(bank.y,bank.education,normalize='columns')\n",
    "education_df"
   ]
  },
  {
   "cell_type": "markdown",
   "id": "5182d245-7a20-46c5-9310-151a016fafac",
   "metadata": {},
   "source": [
    "[Top](#top)"
   ]
  },
  {
   "cell_type": "markdown",
   "id": "a32d327b-024a-46b7-992e-abe80bfc84fa",
   "metadata": {},
   "source": [
    "<a id=\"contact\"></a>\n",
    "4. Contact."
   ]
  },
  {
   "cell_type": "code",
   "execution_count": 10,
   "id": "01d6d0f9-2349-4fb1-860b-e6977fc7f894",
   "metadata": {},
   "outputs": [
    {
     "data": {
      "text/html": [
       "<div>\n",
       "<style scoped>\n",
       "    .dataframe tbody tr th:only-of-type {\n",
       "        vertical-align: middle;\n",
       "    }\n",
       "\n",
       "    .dataframe tbody tr th {\n",
       "        vertical-align: top;\n",
       "    }\n",
       "\n",
       "    .dataframe thead th {\n",
       "        text-align: right;\n",
       "    }\n",
       "</style>\n",
       "<table border=\"1\" class=\"dataframe\">\n",
       "  <thead>\n",
       "    <tr style=\"text-align: right;\">\n",
       "      <th>contact</th>\n",
       "      <th>cellular</th>\n",
       "      <th>telephone</th>\n",
       "    </tr>\n",
       "    <tr>\n",
       "      <th>y</th>\n",
       "      <th></th>\n",
       "      <th></th>\n",
       "    </tr>\n",
       "  </thead>\n",
       "  <tbody>\n",
       "    <tr>\n",
       "      <th>0</th>\n",
       "      <td>0.852988</td>\n",
       "      <td>0.947178</td>\n",
       "    </tr>\n",
       "    <tr>\n",
       "      <th>1</th>\n",
       "      <td>0.147012</td>\n",
       "      <td>0.052822</td>\n",
       "    </tr>\n",
       "  </tbody>\n",
       "</table>\n",
       "</div>"
      ],
      "text/plain": [
       "contact  cellular  telephone\n",
       "y                           \n",
       "0        0.852988   0.947178\n",
       "1        0.147012   0.052822"
      ]
     },
     "execution_count": 10,
     "metadata": {},
     "output_type": "execute_result"
    }
   ],
   "source": [
    "contact_df=pd.crosstab(bank.y,bank.contact,normalize='columns')\n",
    "contact_df"
   ]
  },
  {
   "cell_type": "markdown",
   "id": "ff00eb89-08da-4ad4-9157-4d1788719ee9",
   "metadata": {},
   "source": [
    "<a id=\"month\"></a>\n",
    "5. Month/Weekday."
   ]
  },
  {
   "cell_type": "code",
   "execution_count": 11,
   "id": "576902a1-cb0c-4b76-bca0-c991e9595972",
   "metadata": {},
   "outputs": [
    {
     "data": {
      "text/plain": [
       "month\n",
       "apr    0.203574\n",
       "aug    0.105324\n",
       "dec    0.488636\n",
       "jul    0.090650\n",
       "jun    0.106553\n",
       "mar    0.507491\n",
       "may    0.064684\n",
       "nov    0.101615\n",
       "oct    0.438395\n",
       "sep    0.445848\n",
       "Name: 1, dtype: float64"
      ]
     },
     "execution_count": 11,
     "metadata": {},
     "output_type": "execute_result"
    }
   ],
   "source": [
    "month_df=pd.crosstab(bank.y,bank.month,normalize='columns')\n",
    "month_df.T[1].sort_index()"
   ]
  },
  {
   "cell_type": "code",
   "execution_count": 12,
   "id": "14a95be8-947b-4804-9adc-def567159b92",
   "metadata": {},
   "outputs": [
    {
     "data": {
      "text/plain": [
       "month\n",
       "apr     2574\n",
       "aug     6048\n",
       "dec      176\n",
       "jul     7027\n",
       "jun     5143\n",
       "mar      534\n",
       "may    13419\n",
       "nov     4025\n",
       "oct      698\n",
       "sep      554\n",
       "Name: count, dtype: int64"
      ]
     },
     "execution_count": 12,
     "metadata": {},
     "output_type": "execute_result"
    }
   ],
   "source": [
    "##Months with higher 1 coincide with the months with less calls. Also, I do not believe that it mnight be relevant or using some leakage\n",
    "bank.month.value_counts().sort_index()"
   ]
  },
  {
   "cell_type": "code",
   "execution_count": 13,
   "id": "92335abf-49aa-46dd-9dbb-91c4917b874c",
   "metadata": {},
   "outputs": [
    {
     "data": {
      "text/plain": [
       "month\n",
       "dec    0.002776\n",
       "mar    0.000950\n",
       "sep    0.000805\n",
       "oct    0.000628\n",
       "apr    0.000079\n",
       "nov    0.000025\n",
       "jun    0.000021\n",
       "aug    0.000017\n",
       "jul    0.000013\n",
       "may    0.000005\n",
       "dtype: float64"
      ]
     },
     "execution_count": 13,
     "metadata": {},
     "output_type": "execute_result"
    }
   ],
   "source": [
    "(month_df.T[1].sort_values().sort_index()/bank.month.value_counts().sort_index()).sort_values(ascending=False)"
   ]
  },
  {
   "cell_type": "code",
   "execution_count": 14,
   "id": "1d0ddb0f-9091-4195-95b5-afdd273a3c9a",
   "metadata": {},
   "outputs": [
    {
     "data": {
      "text/html": [
       "<div>\n",
       "<style scoped>\n",
       "    .dataframe tbody tr th:only-of-type {\n",
       "        vertical-align: middle;\n",
       "    }\n",
       "\n",
       "    .dataframe tbody tr th {\n",
       "        vertical-align: top;\n",
       "    }\n",
       "\n",
       "    .dataframe thead th {\n",
       "        text-align: right;\n",
       "    }\n",
       "</style>\n",
       "<table border=\"1\" class=\"dataframe\">\n",
       "  <thead>\n",
       "    <tr style=\"text-align: right;\">\n",
       "      <th>day_of_week</th>\n",
       "      <th>fri</th>\n",
       "      <th>mon</th>\n",
       "      <th>thu</th>\n",
       "      <th>tue</th>\n",
       "      <th>wed</th>\n",
       "    </tr>\n",
       "    <tr>\n",
       "      <th>y</th>\n",
       "      <th></th>\n",
       "      <th></th>\n",
       "      <th></th>\n",
       "      <th></th>\n",
       "      <th></th>\n",
       "    </tr>\n",
       "  </thead>\n",
       "  <tbody>\n",
       "    <tr>\n",
       "      <th>0</th>\n",
       "      <td>0.891396</td>\n",
       "      <td>0.900396</td>\n",
       "      <td>0.87918</td>\n",
       "      <td>0.882868</td>\n",
       "      <td>0.882323</td>\n",
       "    </tr>\n",
       "    <tr>\n",
       "      <th>1</th>\n",
       "      <td>0.108604</td>\n",
       "      <td>0.099604</td>\n",
       "      <td>0.12082</td>\n",
       "      <td>0.117132</td>\n",
       "      <td>0.117677</td>\n",
       "    </tr>\n",
       "  </tbody>\n",
       "</table>\n",
       "</div>"
      ],
      "text/plain": [
       "day_of_week       fri       mon      thu       tue       wed\n",
       "y                                                           \n",
       "0            0.891396  0.900396  0.87918  0.882868  0.882323\n",
       "1            0.108604  0.099604  0.12082  0.117132  0.117677"
      ]
     },
     "execution_count": 14,
     "metadata": {},
     "output_type": "execute_result"
    }
   ],
   "source": [
    "pd.crosstab(bank.y,bank.day_of_week,normalize='columns')"
   ]
  },
  {
   "cell_type": "markdown",
   "id": "22089141-3d3a-4e83-96b7-90ccf8ecf686",
   "metadata": {},
   "source": [
    "[Top](#top)"
   ]
  },
  {
   "cell_type": "markdown",
   "id": "638c086e-9281-43b0-abc3-6fec1d2c6b76",
   "metadata": {},
   "source": [
    "<a id=\"pout\"></a>\n",
    "5. Previous Outcome."
   ]
  },
  {
   "cell_type": "code",
   "execution_count": 15,
   "id": "71012abf-6376-4ada-8dce-c193130898b5",
   "metadata": {
    "scrolled": true
   },
   "outputs": [
    {
     "data": {
      "text/html": [
       "<div>\n",
       "<style scoped>\n",
       "    .dataframe tbody tr th:only-of-type {\n",
       "        vertical-align: middle;\n",
       "    }\n",
       "\n",
       "    .dataframe tbody tr th {\n",
       "        vertical-align: top;\n",
       "    }\n",
       "\n",
       "    .dataframe thead th {\n",
       "        text-align: right;\n",
       "    }\n",
       "</style>\n",
       "<table border=\"1\" class=\"dataframe\">\n",
       "  <thead>\n",
       "    <tr style=\"text-align: right;\">\n",
       "      <th>poutcome</th>\n",
       "      <th>failure</th>\n",
       "      <th>nonexistent</th>\n",
       "      <th>success</th>\n",
       "    </tr>\n",
       "    <tr>\n",
       "      <th>y</th>\n",
       "      <th></th>\n",
       "      <th></th>\n",
       "      <th></th>\n",
       "    </tr>\n",
       "  </thead>\n",
       "  <tbody>\n",
       "    <tr>\n",
       "      <th>0</th>\n",
       "      <td>0.859454</td>\n",
       "      <td>0.911327</td>\n",
       "      <td>0.350929</td>\n",
       "    </tr>\n",
       "    <tr>\n",
       "      <th>1</th>\n",
       "      <td>0.140546</td>\n",
       "      <td>0.088673</td>\n",
       "      <td>0.649071</td>\n",
       "    </tr>\n",
       "  </tbody>\n",
       "</table>\n",
       "</div>"
      ],
      "text/plain": [
       "poutcome   failure  nonexistent   success\n",
       "y                                        \n",
       "0         0.859454     0.911327  0.350929\n",
       "1         0.140546     0.088673  0.649071"
      ]
     },
     "execution_count": 15,
     "metadata": {},
     "output_type": "execute_result"
    }
   ],
   "source": [
    "poutcome_df=pd.crosstab(bank.y,bank.poutcome,normalize='columns')\n",
    "poutcome_df"
   ]
  },
  {
   "cell_type": "markdown",
   "id": "2a8af3ab-d855-4faa-86eb-700f7157f0a7",
   "metadata": {},
   "source": [
    "[Top](#top)"
   ]
  },
  {
   "cell_type": "markdown",
   "id": "cb80860b-b8a0-4642-b40e-47d3c6743f79",
   "metadata": {},
   "source": [
    "6. Default/housing/Loan."
   ]
  },
  {
   "cell_type": "code",
   "execution_count": 16,
   "id": "666c103e-af69-4517-9265-eae143cccc0f",
   "metadata": {},
   "outputs": [
    {
     "data": {
      "text/html": [
       "<div>\n",
       "<style scoped>\n",
       "    .dataframe tbody tr th:only-of-type {\n",
       "        vertical-align: middle;\n",
       "    }\n",
       "\n",
       "    .dataframe tbody tr th {\n",
       "        vertical-align: top;\n",
       "    }\n",
       "\n",
       "    .dataframe thead th {\n",
       "        text-align: right;\n",
       "    }\n",
       "</style>\n",
       "<table border=\"1\" class=\"dataframe\">\n",
       "  <thead>\n",
       "    <tr style=\"text-align: right;\">\n",
       "      <th>default</th>\n",
       "      <th>-1.0</th>\n",
       "      <th>0.0</th>\n",
       "      <th>1.0</th>\n",
       "    </tr>\n",
       "    <tr>\n",
       "      <th>y</th>\n",
       "      <th></th>\n",
       "      <th></th>\n",
       "      <th></th>\n",
       "    </tr>\n",
       "  </thead>\n",
       "  <tbody>\n",
       "    <tr>\n",
       "      <th>0</th>\n",
       "      <td>0.948387</td>\n",
       "      <td>0.871139</td>\n",
       "      <td>1.0</td>\n",
       "    </tr>\n",
       "    <tr>\n",
       "      <th>1</th>\n",
       "      <td>0.051613</td>\n",
       "      <td>0.128861</td>\n",
       "      <td>0.0</td>\n",
       "    </tr>\n",
       "  </tbody>\n",
       "</table>\n",
       "</div>"
      ],
      "text/plain": [
       "default      -1.0       0.0   1.0\n",
       "y                                \n",
       "0        0.948387  0.871139   1.0\n",
       "1        0.051613  0.128861   0.0"
      ]
     },
     "execution_count": 16,
     "metadata": {},
     "output_type": "execute_result"
    }
   ],
   "source": [
    "pd.crosstab(bank.y,bank.default,normalize='columns')"
   ]
  },
  {
   "cell_type": "code",
   "execution_count": 17,
   "id": "76d58c61-ce0e-43e9-8ccf-cd63b99c0cb9",
   "metadata": {},
   "outputs": [
    {
     "data": {
      "text/html": [
       "<div>\n",
       "<style scoped>\n",
       "    .dataframe tbody tr th:only-of-type {\n",
       "        vertical-align: middle;\n",
       "    }\n",
       "\n",
       "    .dataframe tbody tr th {\n",
       "        vertical-align: top;\n",
       "    }\n",
       "\n",
       "    .dataframe thead th {\n",
       "        text-align: right;\n",
       "    }\n",
       "</style>\n",
       "<table border=\"1\" class=\"dataframe\">\n",
       "  <thead>\n",
       "    <tr style=\"text-align: right;\">\n",
       "      <th>housing</th>\n",
       "      <th>0.0</th>\n",
       "      <th>1.0</th>\n",
       "    </tr>\n",
       "    <tr>\n",
       "      <th>y</th>\n",
       "      <th></th>\n",
       "      <th></th>\n",
       "    </tr>\n",
       "  </thead>\n",
       "  <tbody>\n",
       "    <tr>\n",
       "      <th>0</th>\n",
       "      <td>0.891204</td>\n",
       "      <td>0.883806</td>\n",
       "    </tr>\n",
       "    <tr>\n",
       "      <th>1</th>\n",
       "      <td>0.108796</td>\n",
       "      <td>0.116194</td>\n",
       "    </tr>\n",
       "  </tbody>\n",
       "</table>\n",
       "</div>"
      ],
      "text/plain": [
       "housing       0.0       1.0\n",
       "y                          \n",
       "0        0.891204  0.883806\n",
       "1        0.108796  0.116194"
      ]
     },
     "execution_count": 17,
     "metadata": {},
     "output_type": "execute_result"
    }
   ],
   "source": [
    "pd.crosstab(bank.y,bank.housing,normalize='columns')"
   ]
  },
  {
   "cell_type": "code",
   "execution_count": null,
   "id": "789f2c33-72f9-4efd-9701-5b9e043db006",
   "metadata": {},
   "outputs": [],
   "source": [
    "pd.crosstab(bank.y,bank.loan,normalize='columns')"
   ]
  },
  {
   "cell_type": "markdown",
   "id": "30dda3b7-c9d0-4265-93a2-f69e8cbf105a",
   "metadata": {},
   "source": [
    "[Top](#top)"
   ]
  },
  {
   "cell_type": "markdown",
   "id": "b94ec7bc-0ee7-44a4-9877-1de72fb5535f",
   "metadata": {},
   "source": [
    "8. Previous."
   ]
  },
  {
   "cell_type": "code",
   "execution_count": 18,
   "id": "9435b3c9-ea0c-452c-ab7e-7fddb85e338b",
   "metadata": {},
   "outputs": [
    {
     "data": {
      "text/html": [
       "<div>\n",
       "<style scoped>\n",
       "    .dataframe tbody tr th:only-of-type {\n",
       "        vertical-align: middle;\n",
       "    }\n",
       "\n",
       "    .dataframe tbody tr th {\n",
       "        vertical-align: top;\n",
       "    }\n",
       "\n",
       "    .dataframe thead th {\n",
       "        text-align: right;\n",
       "    }\n",
       "</style>\n",
       "<table border=\"1\" class=\"dataframe\">\n",
       "  <thead>\n",
       "    <tr style=\"text-align: right;\">\n",
       "      <th>previous</th>\n",
       "      <th>first</th>\n",
       "      <th>second</th>\n",
       "      <th>third</th>\n",
       "      <th>fourth</th>\n",
       "    </tr>\n",
       "    <tr>\n",
       "      <th>y</th>\n",
       "      <th></th>\n",
       "      <th></th>\n",
       "      <th></th>\n",
       "      <th></th>\n",
       "    </tr>\n",
       "  </thead>\n",
       "  <tbody>\n",
       "    <tr>\n",
       "      <th>0</th>\n",
       "      <td>0.897429</td>\n",
       "      <td>0.508995</td>\n",
       "      <td>0.416667</td>\n",
       "      <td>0.5</td>\n",
       "    </tr>\n",
       "    <tr>\n",
       "      <th>1</th>\n",
       "      <td>0.102571</td>\n",
       "      <td>0.491005</td>\n",
       "      <td>0.583333</td>\n",
       "      <td>0.5</td>\n",
       "    </tr>\n",
       "  </tbody>\n",
       "</table>\n",
       "</div>"
      ],
      "text/plain": [
       "previous     first    second     third  fourth\n",
       "y                                             \n",
       "0         0.897429  0.508995  0.416667     0.5\n",
       "1         0.102571  0.491005  0.583333     0.5"
      ]
     },
     "execution_count": 18,
     "metadata": {},
     "output_type": "execute_result"
    }
   ],
   "source": [
    "pd.crosstab(bank.y,(pd.cut(bank.previous,bins=4,labels=['first', 'second','third', 'fourth'])),normalize='columns')"
   ]
  },
  {
   "cell_type": "code",
   "execution_count": 90,
   "id": "e2f4c833-6d3f-42c2-b1cd-0a992c868072",
   "metadata": {},
   "outputs": [],
   "source": [
    "bank['previous']=(bank['previous']>0).astype(int)\n",
    "if 'previous' not in boolean_columns:\n",
    "    boolean_columns.append('previous')"
   ]
  },
  {
   "cell_type": "markdown",
   "id": "b1840038-8f92-49a5-ba70-aa49f4995341",
   "metadata": {},
   "source": [
    "<a id=\"top\"></a>\n",
    "<div class=\"alert alert-block alert-warning\">\n",
    "<b>Numerical Columns:</b> Will proceed to analyze each column one by one\n",
    "</div>\n",
    "\n",
    "> Doing crosstabs and/or boxplots to try to understand the relationship of this columns with the target.\n",
    "\n",
    "\n",
    "1. [Age.](#age) Students and retired are more likely to buy.\n",
    "2. [Economical indicators (emp.var.rate, cpi...](#marital) Nothing relevant. No deviation seen in the crosstab.\n",
    "3. [Campaign.](#education) Number of contacts performed during this campaign and for this client.\n",
    "4. [pdays.](#contact) Number of days that passed by after the client was last contacted from a previous campaign."
   ]
  },
  {
   "cell_type": "markdown",
   "id": "54f24838-7de4-4754-9755-767d599f7902",
   "metadata": {},
   "source": [
    "1. Age"
   ]
  },
  {
   "cell_type": "code",
   "execution_count": 38,
   "id": "8c9f0a66-4fe4-40f9-81ec-0b614b6f1433",
   "metadata": {},
   "outputs": [
    {
     "data": {
      "text/html": [
       "<div>\n",
       "<style scoped>\n",
       "    .dataframe tbody tr th:only-of-type {\n",
       "        vertical-align: middle;\n",
       "    }\n",
       "\n",
       "    .dataframe tbody tr th {\n",
       "        vertical-align: top;\n",
       "    }\n",
       "\n",
       "    .dataframe thead th {\n",
       "        text-align: right;\n",
       "    }\n",
       "</style>\n",
       "<table border=\"1\" class=\"dataframe\">\n",
       "  <thead>\n",
       "    <tr style=\"text-align: right;\">\n",
       "      <th>age</th>\n",
       "      <th>(16.919, 27.125]</th>\n",
       "      <th>(27.125, 37.25]</th>\n",
       "      <th>(37.25, 47.375]</th>\n",
       "      <th>(47.375, 57.5]</th>\n",
       "      <th>(57.5, 67.625]</th>\n",
       "      <th>(67.625, 77.75]</th>\n",
       "      <th>(77.75, 87.875]</th>\n",
       "      <th>(87.875, 98.0]</th>\n",
       "    </tr>\n",
       "    <tr>\n",
       "      <th>y</th>\n",
       "      <th></th>\n",
       "      <th></th>\n",
       "      <th></th>\n",
       "      <th></th>\n",
       "      <th></th>\n",
       "      <th></th>\n",
       "      <th></th>\n",
       "      <th></th>\n",
       "    </tr>\n",
       "  </thead>\n",
       "  <tbody>\n",
       "    <tr>\n",
       "      <th>0</th>\n",
       "      <td>0.818327</td>\n",
       "      <td>0.891136</td>\n",
       "      <td>0.918917</td>\n",
       "      <td>0.905349</td>\n",
       "      <td>0.795042</td>\n",
       "      <td>0.559172</td>\n",
       "      <td>0.474026</td>\n",
       "      <td>0.529412</td>\n",
       "    </tr>\n",
       "    <tr>\n",
       "      <th>1</th>\n",
       "      <td>0.181673</td>\n",
       "      <td>0.108864</td>\n",
       "      <td>0.081083</td>\n",
       "      <td>0.094651</td>\n",
       "      <td>0.204958</td>\n",
       "      <td>0.440828</td>\n",
       "      <td>0.525974</td>\n",
       "      <td>0.470588</td>\n",
       "    </tr>\n",
       "  </tbody>\n",
       "</table>\n",
       "</div>"
      ],
      "text/plain": [
       "age  (16.919, 27.125]  (27.125, 37.25]  (37.25, 47.375]  (47.375, 57.5]  \\\n",
       "y                                                                         \n",
       "0            0.818327         0.891136         0.918917        0.905349   \n",
       "1            0.181673         0.108864         0.081083        0.094651   \n",
       "\n",
       "age  (57.5, 67.625]  (67.625, 77.75]  (77.75, 87.875]  (87.875, 98.0]  \n",
       "y                                                                      \n",
       "0          0.795042         0.559172         0.474026        0.529412  \n",
       "1          0.204958         0.440828         0.525974        0.470588  "
      ]
     },
     "execution_count": 38,
     "metadata": {},
     "output_type": "execute_result"
    }
   ],
   "source": [
    "#lest's create one cat over 50\n",
    "pd.crosstab(bank.y, pd.cut(bank.age,bins=8),normalize='columns')\n",
    "#let's create one cat over 50 and rest"
   ]
  },
  {
   "cell_type": "code",
   "execution_count": 46,
   "id": "4299169b-7ea8-4f28-80ca-fb26ecedc8ba",
   "metadata": {},
   "outputs": [
    {
     "data": {
      "text/html": [
       "<div>\n",
       "<style scoped>\n",
       "    .dataframe tbody tr th:only-of-type {\n",
       "        vertical-align: middle;\n",
       "    }\n",
       "\n",
       "    .dataframe tbody tr th {\n",
       "        vertical-align: top;\n",
       "    }\n",
       "\n",
       "    .dataframe thead th {\n",
       "        text-align: right;\n",
       "    }\n",
       "</style>\n",
       "<table border=\"1\" class=\"dataframe\">\n",
       "  <thead>\n",
       "    <tr style=\"text-align: right;\">\n",
       "      <th>age</th>\n",
       "      <th>young</th>\n",
       "      <th>middle age</th>\n",
       "      <th>mature</th>\n",
       "    </tr>\n",
       "    <tr>\n",
       "      <th>y</th>\n",
       "      <th></th>\n",
       "      <th></th>\n",
       "      <th></th>\n",
       "    </tr>\n",
       "  </thead>\n",
       "  <tbody>\n",
       "    <tr>\n",
       "      <th>0</th>\n",
       "      <td>0.602941</td>\n",
       "      <td>0.897276</td>\n",
       "      <td>0.79331</td>\n",
       "    </tr>\n",
       "    <tr>\n",
       "      <th>1</th>\n",
       "      <td>0.397059</td>\n",
       "      <td>0.102724</td>\n",
       "      <td>0.20669</td>\n",
       "    </tr>\n",
       "  </tbody>\n",
       "</table>\n",
       "</div>"
      ],
      "text/plain": [
       "age     young  middle age   mature\n",
       "y                                 \n",
       "0    0.602941    0.897276  0.79331\n",
       "1    0.397059    0.102724  0.20669"
      ]
     },
     "execution_count": 46,
     "metadata": {},
     "output_type": "execute_result"
    }
   ],
   "source": [
    "bins=[0,20,55,120]\n",
    "pd.crosstab(bank.y, pd.cut(bank.age,bins=bins,labels=['young','middle age','mature']),normalize='columns')"
   ]
  },
  {
   "cell_type": "code",
   "execution_count": 48,
   "id": "badf7fae-ef5a-4f0c-9ee8-9943d62c745d",
   "metadata": {},
   "outputs": [],
   "source": [
    "bank['age_groups']=pd.cut(bank.age,bins=bins,labels=['young','middle age','mature'])\n",
    "if 'age_groups' not in categorical_columns:\n",
    "    categorical_columns.append('age_groups')"
   ]
  },
  {
   "cell_type": "markdown",
   "id": "ff6e56f5-c0bf-43ee-aa23-eb978d493a99",
   "metadata": {},
   "source": [
    "2. Economical Indicators."
   ]
  },
  {
   "cell_type": "code",
   "execution_count": 64,
   "id": "156fbace-ec9d-4573-9c26-0dd4d6fbd0c8",
   "metadata": {},
   "outputs": [
    {
     "data": {
      "image/png": "[encoded data removed]",
      "text/plain": [
       "<Figure size 640x480 with 5 Axes>"
      ]
     },
     "metadata": {},
     "output_type": "display_data"
    }
   ],
   "source": [
    "economic_indicators=[col for col in numerical_columns if col not in ['age','campaign','pdays']]\n",
    "economic_indicators\n",
    "\n",
    "\n",
    "# Create the figure and two subplots\n",
    "fig, axes = plt.subplots(ncols=len(economic_indicators))\n",
    "\n",
    "# Create the boxplot with Seaborn\n",
    "for column, axis in zip(economic_indicators, axes):\n",
    "        sns.boxplot(x='y', y=column,data=bank, ax=axis) \n",
    "        axis.set_title(column)\n",
    "        # axis.set(xticklabels=[], xticks=[], ylabel=column)\n",
    "\n",
    "# Show the plot\n",
    "plt.tight_layout()\n",
    "plt.show()"
   ]
  },
  {
   "cell_type": "code",
   "execution_count": null,
   "id": "1bfa2464-674a-411e-89ba-83ee4e5704af",
   "metadata": {},
   "outputs": [],
   "source": [
    "#Ones related to employment seem to work better."
   ]
  },
  {
   "cell_type": "markdown",
   "id": "fd0f17d0-50de-4288-a607-c43f5fc3b39e",
   "metadata": {},
   "source": [
    "3. Campaign."
   ]
  },
  {
   "cell_type": "code",
   "execution_count": 79,
   "id": "a93df55c-e03a-4fef-bb25-1924a538a846",
   "metadata": {},
   "outputs": [
    {
     "data": {
      "image/png": "[encoded data removed]",
      "text/plain": [
       "<Figure size 640x480 with 1 Axes>"
      ]
     },
     "metadata": {},
     "output_type": "display_data"
    }
   ],
   "source": [
    "bank.campaign.describe()\n",
    "#sns.boxplot(x='y',y='campaign',data=bank)\n",
    "cutoff=bank.campaign.describe(percentiles=[.25, .5, .75,.9,.95]).loc['90%']\n",
    "bank[bank.campaign<cutoff]\n",
    "sns.boxplot(x='y',y='campaign',data=bank[bank.campaign<cutoff]);\n",
    "#No relevance"
   ]
  },
  {
   "cell_type": "code",
   "execution_count": 87,
   "id": "22b4b21f-8540-496a-a987-b7fcb7c8d018",
   "metadata": {},
   "outputs": [
    {
     "data": {
      "image/png": "[encoded data removed]",
      "text/plain": [
       "<Figure size 640x480 with 1 Axes>"
      ]
     },
     "metadata": {},
     "output_type": "display_data"
    }
   ],
   "source": [
    "bank[bank.pdays<bank.pdays.describe().loc['25%']]\n",
    "sns.boxplot(x='y',y='pdays', data=bank[bank.pdays<bank.pdays.describe().loc['25%']]);\n",
    "#No much relevance plus I feel this info is contained in other features."
   ]
  },
  {
   "cell_type": "code",
   "execution_count": 93,
   "id": "acbae82a-604a-4b6b-9d38-f85fcdd73868",
   "metadata": {},
   "outputs": [
    {
     "name": "stdout",
     "output_type": "stream",
     "text": [
      "CAT COLUMNS:  ['job', 'marital', 'education', 'default', 'month', 'day_of_week', 'poutcome', 'age_groups'] \n",
      " NUM COLUMNS:  ['age', 'campaign', 'pdays', 'emp.var.rate', 'cons.price.idx', 'cons.conf.idx', 'euribor3m', 'nr.employed'] \n",
      " BOOL COLUMNS:  ['housing', 'loan', 'is_cellular', 'is_cellular', 'previous']\n"
     ]
    }
   ],
   "source": [
    "\n",
    "print(\"CAT COLUMNS: \",categorical_columns,'\\n',\"NUM COLUMNS: \", numerical_columns,'\\n',\n",
    "     'BOOL COLUMNS: ',boolean_columns)"
   ]
  },
  {
   "cell_type": "code",
   "execution_count": 173,
   "id": "a357a840-792e-42f8-ba48-33bc286ec36b",
   "metadata": {},
   "outputs": [
    {
     "name": "stdout",
     "output_type": "stream",
     "text": [
      "              Feature        Score\n",
      "42   poutcome_success  3866.562386\n",
      "4            previous  1274.421269\n",
      "32          month_mar   831.589312\n",
      "35          month_oct   739.744050\n",
      "36          month_sep   614.316129\n",
      "12        job_student   330.795869\n",
      "9         job_retired   329.346564\n",
      "33          month_may   310.079746\n",
      "44  age_groups_mature   308.419755\n",
      "2         is_cellular   299.863629\n"
     ]
    }
   ],
   "source": [
    "features_selected=categorical_columns + boolean_columns\n",
    "X,y= creating_X_y(bank,features_selected)\n",
    "\n",
    "\n",
    "# Initialize SelectKBest with chi2 and k=2\n",
    "selector = SelectKBest(chi2, k=2).fit(X, y)\n",
    "\n",
    "# Get the feature scores and names\n",
    "scores = selector.scores_\n",
    "feature_names = X.columns\n",
    "\n",
    "\n",
    "# Create a DataFrame to display the ranking\n",
    "feature_ranking = pd.DataFrame({'Feature': feature_names, 'Score': scores})\n",
    "feature_ranking = feature_ranking.sort_values(by='Score', ascending=False)\n",
    "\n",
    "print(feature_ranking[:10])\n",
    "top_categorical=list(feature_ranking['Feature'].values)\n",
    "top_10_cat=list(feature_ranking[:10]['Feature'].values)\n"
   ]
  },
  {
   "cell_type": "code",
   "execution_count": 172,
   "id": "24d21022-1859-4e5e-aade-c1ae6b1b6da4",
   "metadata": {},
   "outputs": [
    {
     "name": "stdout",
     "output_type": "stream",
     "text": [
      "          Feature        Score\n",
      "7     nr.employed  5720.491104\n",
      "2           pdays  4701.549358\n",
      "6       euribor3m  4161.120665\n",
      "3    emp.var.rate  3900.371626\n",
      "4  cons.price.idx   754.134596\n",
      "1        campaign   174.486285\n",
      "5   cons.conf.idx   123.419827\n",
      "0             age    36.984408\n"
     ]
    }
   ],
   "source": [
    "X,y= creating_X_y(bank,numerical_columns)\n",
    "# X = bank[categorical_columns]\n",
    "# y = bank.y\n",
    "scores = selector.scores_\n",
    "feature_names = X.columns\n",
    "# Select the top k features based on the chi-squared score\n",
    "selector = SelectKBest(score_func=f_classif, k='all').fit(X, y)\n",
    "scores = selector.scores_\n",
    "feature_names = X.columns\n",
    "\n",
    "feature_ranking = pd.DataFrame({'Feature': feature_names, 'Score': scores})\n",
    "feature_ranking = feature_ranking.sort_values(by='Score', ascending=False)\n",
    "print(feature_ranking)\n",
    "top_numerical=list(feature_ranking['Feature'].values)\n",
    "#top_numerical"
   ]
  },
  {
   "cell_type": "markdown",
   "id": "3dd07bdd-847a-4743-af64-a08939623344",
   "metadata": {},
   "source": [
    "<a id=\"top\"></a>\n",
    "<div class=\"alert alert-block alert-warning\">\n",
    "<b>Modeling:</b> Will proceed to try different models. I will use Logistic Regression, random Forest and another one.\n",
    "</div>\n",
    "\n",
    "> Will use cross val and resampling. The score that I will use as a baseline is that of 0.89 accuracy and 0.17 recall\n",
    "> that we had from a former exercise."
   ]
  },
  {
   "cell_type": "markdown",
   "id": "51eb652b-ed7f-42dd-8690-e789d06576b1",
   "metadata": {},
   "source": [
    "1. **Using all features, SMOTE, Logistic Regression and Standard Scaler.**"
   ]
  },
  {
   "cell_type": "code",
   "execution_count": 262,
   "id": "d6992166-4546-4aa9-aade-a03f4ea2a210",
   "metadata": {},
   "outputs": [
    {
     "name": "stdout",
     "output_type": "stream",
     "text": [
      "My scores in train validation are 0.636 recall,0.437 as per f1 and an accuracy of 0.815\n",
      "As per the test: 0.635, the f1 is 0.441 and its accuracy amounts to 0.818\n"
     ]
    }
   ],
   "source": [
    "all_features=numerical_columns + categorical_columns + boolean_columns\n",
    "X,y =creating_X_y(bank, all_features)\n",
    "\n",
    "X_train, X_test, y_train, y_test=train_test_split(X,y,stratify=y, random_state=1992)\n",
    "model=LogisticRegression(max_iter=500)\n",
    "upsampling=SMOTE()\n",
    "scaler=StandardScaler()\n",
    "pipeline=Pipeline([('Scaler',scaler),('SMOTE', upsampling),('Logistic Regression', model)])\n",
    "cv=StratifiedKFold(shuffle=True,random_state=1992)\n",
    "scoring = {\n",
    "    'accuracy': make_scorer(accuracy_score),\n",
    "    'f1': make_scorer(f1_score),\n",
    "    'recall': make_scorer(recall_score)\n",
    "}\n",
    "scores=cross_validate(pipeline,X_train,y_train, scoring=scoring, cv=cv)\n",
    "print(f'My scores in train validation are {scores[\"test_recall\"].mean().round(3)} recall,{scores[\"test_f1\"].mean().round(3)} as per f1 and an accuracy of {scores[\"test_accuracy\"].mean().round(3)}')\n",
    "pipeline.fit(X_train,y_train)\n",
    "preds=pipeline.predict(X_test)\n",
    "print(f'As per the test: {round(recall_score(y_test,preds),3)}, the f1 is {round(f1_score(y_test,preds),3)}\\\n",
    " and its accuracy amounts to {round(accuracy_score(y_test,preds),3)}')\n",
    "data_to_save=(pipeline, X_test,y_test)\n",
    "with open ('model_pickled.pkl','wb') as MODEL:\n",
    "    pickle.dump(data_to_save,MODEL)\n",
    "    "
   ]
  },
  {
   "cell_type": "code",
   "execution_count": 232,
   "id": "6eade4a4-6b8f-4f7c-8fad-ff23ec36ca4a",
   "metadata": {},
   "outputs": [
    {
     "data": {
      "image/png": "[encoded data removed]",
      "text/plain": [
       "<Figure size 640x480 with 2 Axes>"
      ]
     },
     "metadata": {},
     "output_type": "display_data"
    }
   ],
   "source": [
    "_ = ConfusionMatrixDisplay.from_estimator(pipeline, X_test, y_test)"
   ]
  },
  {
   "cell_type": "code",
   "execution_count": 244,
   "id": "328909db-ff1a-47a2-93a1-f46cca41973a",
   "metadata": {},
   "outputs": [
    {
     "name": "stdout",
     "output_type": "stream",
     "text": [
      "Predicted maj:  7913 78.74 \n",
      " Predicted min:  2137 21.26\n",
      "              precision    recall  f1-score   support\n",
      "\n",
      "           0       0.95      0.84      0.89      8917\n",
      "           1       0.34      0.64      0.44      1133\n",
      "\n",
      "    accuracy                           0.82     10050\n",
      "   macro avg       0.64      0.74      0.67     10050\n",
      "weighted avg       0.88      0.82      0.84     10050\n",
      "\n"
     ]
    }
   ],
   "source": [
    "#let's evaluate the Falses Positives and Negatives\n",
    "tn, fp, fn, tp = confusion_matrix(y_test,preds).ravel() \n",
    "total=tn+fp+fn+tp\n",
    "print('Predicted maj: ', tn+fn, round((tn+fn)*100/total,2),'\\n', 'Predicted min: ', tp+fp,round((tp+fp)*100/total,2))\n",
    "\n",
    "print(classification_report(y_test, preds))"
   ]
  },
  {
   "cell_type": "markdown",
   "id": "a8a85c0f-ce25-4875-a53a-ee43922604e7",
   "metadata": {},
   "source": [
    "> Big improvement in recall (46 points) while losing only 7 points of accuracy compared to our baseline. Also, suroprisingly, it did not show \"evident\" signs of overfitting despite using all the features. It will be interested to make an analysis on how things change if I put a cost in fp and fn (ref another notebook). Still 75% of the predictions were for the Majority Class\n"
   ]
  },
  {
   "cell_type": "markdown",
   "id": "5fb9f3a7-f8da-4411-b613-1595f5bb7fa2",
   "metadata": {},
   "source": [
    "2. **Using only selected features with SMOTE and Logistic Regression and Standard Scaler.**"
   ]
  },
  {
   "cell_type": "code",
   "execution_count": 254,
   "id": "38a17f7f-cc2a-4cc9-aefe-2aaaf749de3c",
   "metadata": {},
   "outputs": [
    {
     "name": "stdout",
     "output_type": "stream",
     "text": [
      "My scores in train validation are 0.675 recall,0.397 as per f1 and an accuracy of 0.768\n",
      "As per the test: 0.702 recall, the f1 is 0.355 and its accuracy amounts to 0.713\n"
     ]
    }
   ],
   "source": [
    "all_features=numerical_columns + categorical_columns + boolean_columns\n",
    "X,y =creating_X_y(bank, all_features)\n",
    "selected_features= top_numerical[:3] + top_categorical[:3]\n",
    "X=X[selected_features]\n",
    "X_train, X_test, y_train, y_test=train_test_split(X,y,stratify=y, random_state=1992)\n",
    "model=LogisticRegression(max_iter=500)\n",
    "upsampling=SMOTE()\n",
    "scaler=StandardScaler()\n",
    "pipeline=Pipeline([('Scaler',scaler),('SMOTE', upsampling),('Logistic Regression', model)])\n",
    "cv=StratifiedKFold()\n",
    "scoring = {\n",
    "    'accuracy': make_scorer(accuracy_score),\n",
    "    'f1': make_scorer(f1_score),\n",
    "    'recall': make_scorer(recall_score)\n",
    "}\n",
    "scores=cross_validate(pipeline,X_train,y_train, scoring=scoring, cv=cv)\n",
    "print(f'My scores in train validation are {scores[\"test_recall\"].mean().round(3)} recall,{scores[\"test_f1\"].mean().round(3)} as per f1 and an accuracy of {scores[\"test_accuracy\"].mean().round(3)}')\n",
    "pipeline.fit(X_train,y_train)\n",
    "preds_lr=pipeline.predict(X_test)\n",
    "print(f'As per the test: {round(recall_score(y_test,preds_lr),3)} recall, the f1 is {round(f1_score(y_test,preds_lr),3)}\\\n",
    " and its accuracy amounts to {round(accuracy_score(y_test,preds_lr),3)}')"
   ]
  },
  {
   "cell_type": "code",
   "execution_count": 252,
   "id": "8c1a9a54-b8f6-457c-b0d8-dc027951e285",
   "metadata": {
    "scrolled": true
   },
   "outputs": [
    {
     "data": {
      "image/png": "[encoded data removed]",
      "text/plain": [
       "<Figure size 640x480 with 2 Axes>"
      ]
     },
     "metadata": {},
     "output_type": "display_data"
    }
   ],
   "source": [
    "#confusion matrix\n",
    "_ = ConfusionMatrixDisplay.from_estimator(pipeline, X_test, y_test)"
   ]
  },
  {
   "cell_type": "code",
   "execution_count": 253,
   "id": "2182c935-1dee-44dd-a6a1-c9beb3a7444e",
   "metadata": {},
   "outputs": [
    {
     "name": "stdout",
     "output_type": "stream",
     "text": [
      "Predicted maj:  7816 77.77 \n",
      " Predicted min:  2234 22.23\n",
      "              precision    recall  f1-score   support\n",
      "\n",
      "           0       0.95      0.83      0.89      8917\n",
      "           1       0.32      0.64      0.43      1133\n",
      "\n",
      "    accuracy                           0.81     10050\n",
      "   macro avg       0.64      0.74      0.66     10050\n",
      "weighted avg       0.88      0.81      0.83     10050\n",
      "\n"
     ]
    }
   ],
   "source": [
    "#let's evaluate the Falses Positives and Negatives\n",
    "tn, fp, fn, tp = confusion_matrix(y_test,preds_lr).ravel() \n",
    "total=tn+fp+fn+tp\n",
    "print('Predicted maj: ', tn+fn, round((tn+fn)*100/total,2),'\\n', 'Predicted min: ', tp+fp,round((tp+fp)*100/total,2))\n",
    "\n",
    "print(classification_report(y_test, preds_lr))"
   ]
  },
  {
   "cell_type": "markdown",
   "id": "cae91085-8bf6-400d-935a-79f9b17cd7a9",
   "metadata": {},
   "source": [
    "> Lost a little bit of recall while gaining some accuracy. Does not worth limiting features. I tried different number of features with similar results. As I reduce the number of features my recall increases up to 72 points while accuracy pays for it going down to 72. It is all well explained looking at f1 score: down to 35 from 44 in the worst case. Something similar happened when I use a downsampler (TomekLinks) instead of SMOTE. "
   ]
  },
  {
   "cell_type": "markdown",
   "id": "c525ffc6-e679-4b79-a17e-738867e33a4a",
   "metadata": {},
   "source": [
    "3. **Moving to random Forest**"
   ]
  },
  {
   "cell_type": "code",
   "execution_count": 258,
   "id": "7935cb55-bce6-458f-a6e0-e3d195f1c5fe",
   "metadata": {},
   "outputs": [
    {
     "name": "stdout",
     "output_type": "stream",
     "text": [
      "My scores in train validation are 0.361 recall,0.422 as per f1 and an accuracy of 0.889\n",
      "As per the test: 0.37 recall, the f1 is 0.425 and its accuracy amounts to 0.887\n"
     ]
    }
   ],
   "source": [
    "all_features=numerical_columns + categorical_columns + boolean_columns\n",
    "X,y =creating_X_y(bank, all_features)\n",
    "# selected_features= top_4_numerical + top_10_cat\n",
    "# X=X[selected_features]\n",
    "X_train, X_test, y_train, y_test=train_test_split(X,y,stratify=y, random_state=1992)\n",
    "model=RandomForestClassifier()\n",
    "upsampling=SMOTE()\n",
    "scaler=StandardScaler()\n",
    "pipeline=Pipeline([('Scaler',scaler),('SMOTE', upsampling),('random Forest', model)])\n",
    "cv=StratifiedKFold()\n",
    "scoring = {\n",
    "    'accuracy': make_scorer(accuracy_score),\n",
    "    'f1': make_scorer(f1_score),\n",
    "    'recall': make_scorer(recall_score)\n",
    "}\n",
    "scores=cross_validate(pipeline,X_train,y_train, scoring=scoring, cv=cv)\n",
    "print(f'My scores in train validation are {scores[\"test_recall\"].mean().round(3)} recall,{scores[\"test_f1\"].mean().round(3)} as per f1 and an accuracy of {scores[\"test_accuracy\"].mean().round(3)}')\n",
    "pipeline.fit(X_train,y_train)\n",
    "preds_rf=pipeline.predict(X_test)\n",
    "print(f'As per the test: {round(recall_score(y_test,preds_rf),3)} recall, the f1 is {round(f1_score(y_test,preds_rf),3)}\\\n",
    " and its accuracy amounts to {round(accuracy_score(y_test,preds_rf),3)}')"
   ]
  },
  {
   "cell_type": "code",
   "execution_count": 259,
   "id": "dd8a9b69-c51d-47c4-a3a0-650e9b8e25e3",
   "metadata": {},
   "outputs": [
    {
     "data": {
      "image/png": "[encoded data removed]",
      "text/plain": [
       "<Figure size 640x480 with 2 Axes>"
      ]
     },
     "metadata": {},
     "output_type": "display_data"
    }
   ],
   "source": [
    "_ = ConfusionMatrixDisplay.from_estimator(pipeline, X_test, y_test)"
   ]
  },
  {
   "cell_type": "code",
   "execution_count": 260,
   "id": "6f8aa274-d75c-47e6-8bd6-f3d39a7a3702",
   "metadata": {},
   "outputs": [
    {
     "name": "stdout",
     "output_type": "stream",
     "text": [
      "Predicted maj:  9210 91.64 \n",
      " Predicted min:  840 8.36\n",
      "              precision    recall  f1-score   support\n",
      "\n",
      "           0       0.92      0.95      0.94      8917\n",
      "           1       0.50      0.37      0.42      1133\n",
      "\n",
      "    accuracy                           0.89     10050\n",
      "   macro avg       0.71      0.66      0.68     10050\n",
      "weighted avg       0.87      0.89      0.88     10050\n",
      "\n"
     ]
    }
   ],
   "source": [
    "#let's evaluate the Falses Positives and Negatives\n",
    "tn, fp, fn, tp = confusion_matrix(y_test,preds_rf).ravel() \n",
    "total=tn+fp+fn+tp\n",
    "print('Predicted maj: ', tn+fn, round((tn+fn)*100/total,2),'\\n', 'Predicted min: ', tp+fp,round((tp+fp)*100/total,2))\n",
    "\n",
    "print(classification_report(y_test, preds_rf))"
   ]
  },
  {
   "cell_type": "markdown",
   "id": "6ea77597-d2be-467e-bef5-bcc9071c5d16",
   "metadata": {},
   "source": [
    "> Interstingly, Random Forest that usually works wonders for me gives a very disappointing results. Using all features, it brings down recall to 0.37 (almost have of Logistic Regression) while recovering old levels of total accuracy. I will make aa analysis adding some cost in the fp and fn to see if it si a better fit. Random Forest brings up the percentage of majority class predicted to 89%. It is still way better compared to our initial baseline."
   ]
  },
  {
   "cell_type": "markdown",
   "id": "f49a0762-45b0-4880-aae8-7bc552e162da",
   "metadata": {},
   "source": [
    "# Summary:\n",
    "1. Using all features seems to me did not generate overfitting.\n",
    "2. Logistic regression and SMOTE are more effective detecting the minority class in exchange of losing some accuracy.\n",
    "3. Must analyze the distribution of FP and FN in the next notebook. I will save the model withh al features and Logistic regression plus SMOTE to work on my Cost Analysis in binary classification. "
   ]
  },
  {
   "cell_type": "code",
   "execution_count": null,
   "id": "4f258b86-9e19-4280-901c-4f298b1429cd",
   "metadata": {},
   "outputs": [],
   "source": []
  }
 ],
 "metadata": {
  "kernelspec": {
   "display_name": "Python 3 (ipykernel)",
   "language": "python",
   "name": "python3"
  },
  "language_info": {
   "codemirror_mode": {
    "name": "ipython",
    "version": 3
   },
   "file_extension": ".py",
   "mimetype": "text/x-python",
   "name": "python",
   "nbconvert_exporter": "python",
   "pygments_lexer": "ipython3",
   "version": "3.11.8"
  }
 },
 "nbformat": 4,
 "nbformat_minor": 5
}
