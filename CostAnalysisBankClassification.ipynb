{
 "cells": [
  {
   "cell_type": "code",
   "execution_count": 43,
   "id": "88ca24fb-c065-403c-876d-03ba6211bc99",
   "metadata": {},
   "outputs": [
    {
     "name": "stdout",
     "output_type": "stream",
     "text": [
      "DONE\n"
     ]
    }
   ],
   "source": [
    "import pandas as pd\n",
    "import numpy as np\n",
    "import pickle\n",
    "import os\n",
    "\n",
    "\n",
    "from sklearn.metrics import make_scorer, recall_score, f1_score, accuracy_score, ConfusionMatrixDisplay, confusion_matrix, precision_score\n",
    "from sklearn.model_selection import TunedThresholdClassifierCV\n",
    "\n",
    "\n",
    "import seaborn as sns\n",
    "import matplotlib.pyplot as plt\n",
    "%matplotlib inline\n",
    "\n",
    "import importlib\n",
    "import scripts.variables as var\n",
    "import playsound\n",
    "\n",
    "\n",
    "def play_done_message():\n",
    "    playsound.playsound(\"./data/MamaDoIt.mp3\")\n",
    "\n",
    "\n",
    "importlib.reload(var)\n",
    "\n",
    "\n",
    "print('DONE')"
   ]
  },
  {
   "cell_type": "code",
   "execution_count": 2,
   "id": "e2544ac3-06f5-4e43-a3ee-9bb24dfc3353",
   "metadata": {},
   "outputs": [],
   "source": [
    "#Functions\n",
    "def custom_score(y_test, predictions, fp_cost=1, fn_cost=1):\n",
    "    tn, fp, fn, tp = confusion_matrix(y_test, predictions).ravel()\n",
    "    return fn*fn_cost + fp * fp_cost\n",
    "\n",
    "def custom_score_fn_doubled(y_test, predictions, fp_cost=1, fn_cost=2):\n",
    "    tn, fp, fn, tp = confusion_matrix(y_test, predictions).ravel()\n",
    "    return fn*fn_cost + fp * fp_cost"
   ]
  },
  {
   "cell_type": "markdown",
   "id": "9f97fae9-e8ed-4901-a8e7-4e3975cca00f",
   "metadata": {},
   "source": [
    "# Goal.\n",
    "> Once you selected your model, what about to incorporate the cost? What if I am able (a HUGE if) to measure the cost of errors? I will estate this: the cost of missing a \"yes\" (client that will contract the term deposit) is double (2) compared to the cost of calling a client that would not contract the product (1)."
   ]
  },
  {
   "cell_type": "code",
   "execution_count": 3,
   "id": "ae7ed41d-3517-43d8-a1d8-049ff82297ea",
   "metadata": {},
   "outputs": [],
   "source": [
    "with open ('model_pickled.pkl','rb') as MODEL:\n",
    "    data_to_save=pickle.load(MODEL)"
   ]
  },
  {
   "cell_type": "code",
   "execution_count": 4,
   "id": "ac0656b5-19d1-4f64-bbe9-85093beaa502",
   "metadata": {},
   "outputs": [],
   "source": [
    "pipeline, X_test, y_test,X_train,y_train, cv=data_to_save\n",
    "old_preds=pipeline.predict(X_test)"
   ]
  },
  {
   "cell_type": "code",
   "execution_count": 5,
   "id": "6eade4a4-6b8f-4f7c-8fad-ff23ec36ca4a",
   "metadata": {},
   "outputs": [
    {
     "data": {
      "image/png": "[encoded data removed]",
      "text/plain": [
       "<Figure size 640x480 with 2 Axes>"
      ]
     },
     "metadata": {},
     "output_type": "display_data"
    }
   ],
   "source": [
    "_ = ConfusionMatrixDisplay.from_estimator(pipeline, X_test, y_test)"
   ]
  },
  {
   "cell_type": "markdown",
   "id": "e2e72674-29b3-4ebe-9e8b-35239953019c",
   "metadata": {},
   "source": [
    "## The cost when errors have the same weight"
   ]
  },
  {
   "cell_type": "code",
   "execution_count": 6,
   "id": "328909db-ff1a-47a2-93a1-f46cca41973a",
   "metadata": {},
   "outputs": [
    {
     "name": "stdout",
     "output_type": "stream",
     "text": [
      "Cost:  1852\n"
     ]
    }
   ],
   "source": [
    "#let's evaluate the Falses Positives and Negatives\n",
    "#Being the cost of FP and FN the same and TP and TN having no cost at all\n",
    "tn, fp, fn, tp = confusion_matrix(y_test,old_preds).ravel() \n",
    "print('Cost: ', custom_score(y_test, old_preds))"
   ]
  },
  {
   "cell_type": "markdown",
   "id": "67ae2817-59ac-4061-b0aa-259900adcae0",
   "metadata": {},
   "source": [
    "### What the cost would be if we do fn=2 and fp=1?"
   ]
  },
  {
   "cell_type": "code",
   "execution_count": 8,
   "id": "717fa270-b898-4094-9662-940f5b6e9eae",
   "metadata": {},
   "outputs": [
    {
     "name": "stdout",
     "output_type": "stream",
     "text": [
      "The cost is 2263 if we assume that the cost of False Negatives is 2 versus 1 of False Positives\n"
     ]
    }
   ],
   "source": [
    "old_cost=custom_score(y_test,old_preds,fn_cost=2)\n",
    "print(f'The cost is {old_cost} if we assume that the cost of False Negatives is 2 versus 1 of False Positives')"
   ]
  },
  {
   "cell_type": "markdown",
   "id": "2d2a9141-28ed-4498-96ad-8a297e4fd97c",
   "metadata": {},
   "source": [
    "### Let's use TunedThreshold Classifier to calculate new thresholds and therefore new predictions and cost"
   ]
  },
  {
   "cell_type": "code",
   "execution_count": 10,
   "id": "c50f8b3b-d1b9-4016-9890-345cf695b229",
   "metadata": {},
   "outputs": [
    {
     "name": "stdout",
     "output_type": "stream",
     "text": [
      "Tuned decision threshold: 0.803\n",
      "Custom score: 1788.00\n"
     ]
    }
   ],
   "source": [
    "custom_scorer = make_scorer(\n",
    "    custom_score_fn_doubled, response_method=\"predict\", greater_is_better=False\n",
    ")\n",
    "tuned_classifier = TunedThresholdClassifierCV(\n",
    "    pipeline, cv=cv, scoring=custom_scorer, random_state=2012\n",
    ").fit(X_train, y_train)\n",
    "new_cost=custom_score(y_test, tuned_classifier.predict(X_test),fn_cost=2)\n",
    "new_cutoff=tuned_classifier.best_threshold_\n",
    "new_preds=tuned_classifier.predict(X_test)\n",
    "print(f\"Tuned decision threshold: {new_cutoff:.3f}\")\n",
    "print(f\"Custom score: {new_cost:.2f}\")"
   ]
  },
  {
   "cell_type": "code",
   "execution_count": 12,
   "id": "0ed62ba6-68aa-43bc-b977-7e4bd3e1433b",
   "metadata": {},
   "outputs": [
    {
     "name": "stdout",
     "output_type": "stream",
     "text": [
      "If with the same model I decide to change the probability cutoff from 0.5 (standard) to 0.803, my cost goes down to 1788.00\n",
      "This is a 20.99% reduction\n"
     ]
    }
   ],
   "source": [
    "print(f'If with the same model I decide to change the probability cutoff from 0.5 (standard) to {new_cutoff:.3f}, my cost goes down to {custom_score(y_test, new_preds,fn_cost=2):.2f}')\n",
    "print(f\"This is a {(old_cost-new_cost)/old_cost*100:.2f}% reduction\")"
   ]
  },
  {
   "cell_type": "code",
   "execution_count": 13,
   "id": "788d8594-39f2-43d3-a654-9b9418256a5e",
   "metadata": {},
   "outputs": [
    {
     "name": "stdout",
     "output_type": "stream",
     "text": [
      "I will first calculate the probabilities with the old model\n",
      "As you can see I get the same  old cost (2263) than before: 2263\n"
     ]
    }
   ],
   "source": [
    "print(\"I will first calculate the probabilities with the old model\")\n",
    "predictions=[]\n",
    "standard_cutoff=0.5\n",
    "for prob in pipeline.predict_proba(X_test):\n",
    "    if prob[1]>standard_cutoff:\n",
    "        predictions.append(1)\n",
    "    else:\n",
    "        predictions.append(0)\n",
    "custom_score(y_test,predictions, fn_cost=2)\n",
    "print(f\"As you can see I get the same  old cost ({old_cost}) than before: {custom_score(y_test,predictions, fn_cost=2)}\")"
   ]
  },
  {
   "cell_type": "code",
   "execution_count": 24,
   "id": "a72426ba-0a22-4290-a3de-9b7dbfdcfda6",
   "metadata": {},
   "outputs": [
    {
     "name": "stdout",
     "output_type": "stream",
     "text": [
      "I will now calculate the probabilities with the new cutoff\n",
      "As you can see I get a similar new cost (1788) than before: 1788\n"
     ]
    }
   ],
   "source": [
    "print(\"I will now calculate the probabilities with the new cutoff\")\n",
    "predictions=[]\n",
    "\n",
    "for prob in tuned_classifier.predict_proba(X_test):\n",
    "    if prob[1]>new_cutoff:\n",
    "        predictions.append(1)\n",
    "    else:\n",
    "        predictions.append(0)\n",
    "print(f\"As you can see I get a similar new cost ({new_cost}) than before: {custom_score(y_test,predictions, fn_cost=2)}\")"
   ]
  },
  {
   "cell_type": "markdown",
   "id": "05c5a497-489a-4930-80c7-4639be95ff63",
   "metadata": {},
   "source": [
    "### It does prove that the tunedthreshold classifier just recalculates the threshold based in a cost function. Although, it implies a change in predictions."
   ]
  },
  {
   "cell_type": "markdown",
   "id": "7e7f1f0d-06a3-454b-aa3f-fa47b7041b7f",
   "metadata": {},
   "source": [
    "Nest Steps:\n",
    "1. Analyze distribution 1/0.\n",
    "2. Impact in accuracy and recall, precision and f1 score"
   ]
  },
  {
   "cell_type": "code",
   "execution_count": 23,
   "id": "2e570b67-9bbb-4eb9-a1e5-fc1dda324c27",
   "metadata": {},
   "outputs": [
    {
     "name": "stdout",
     "output_type": "stream",
     "text": [
      "This is the distribution in 1/0 before changing cutoff is \n",
      " 0    0.784776\n",
      "1    0.215224\n",
      "Name: proportion, dtype: float64\n",
      "This is the distribution in 1/0 after changing cutoff is \n",
      " 0    0.913532\n",
      "1    0.086468\n",
      "Name: proportion, dtype: float64\n"
     ]
    }
   ],
   "source": [
    "print(f'This is the distribution in 1/0 before changing cutoff is \\n {pd.Series(old_preds).value_counts(normalize=True)}')\n",
    "print(f'This is the distribution in 1/0 after changing cutoff is \\n {pd.Series(new_preds).value_counts(normalize=True)}')"
   ]
  },
  {
   "cell_type": "markdown",
   "id": "2269c764-5ad1-4e4c-8d83-7f5ddc8224d1",
   "metadata": {},
   "source": [
    "* Changing the cutoff to 80% implies to predict more zeros.\n",
    "* Let's go over accuracy and recall"
   ]
  },
  {
   "cell_type": "code",
   "execution_count": 48,
   "id": "bf163574-6a87-46f7-9ecf-b45d0b240a4b",
   "metadata": {},
   "outputs": [
    {
     "name": "stdout",
     "output_type": "stream",
     "text": [
      "Accuracy moves from 81.57% to 89.01%\n",
      "Recall instead falls down considerably from 63.72% to 39.63%\n",
      "Precision improves significantly going from 33.38% to 51.67%\n",
      "While f1 score does not move much from 43.81% to 44.86%\n"
     ]
    }
   ],
   "source": [
    "#Change in accuracy\n",
    "print(f'Accuracy moves from {accuracy_score(y_test,old_preds)*100:.2f}% to {accuracy_score(y_test,new_preds)*100:.2f}%')\n",
    "print(f'Recall instead falls down considerably from {recall_score(y_test,old_preds)*100:.2f}% to {recall_score(y_test,new_preds)*100:.2f}%')\n",
    "print(f'Precision improves significantly going from {precision_score(y_test,old_preds)*100:.2f}% to {precision_score(y_test,new_preds)*100:.2f}%')\n",
    "print(f'While f1 score does not move much from {f1_score(y_test,old_preds)*100:.2f}% to {f1_score(y_test,new_preds)*100:.2f}%')\n"
   ]
  },
  {
   "cell_type": "code",
   "execution_count": null,
   "id": "4f258b86-9e19-4280-901c-4f298b1429cd",
   "metadata": {},
   "outputs": [],
   "source": []
  }
 ],
 "metadata": {
  "kernelspec": {
   "display_name": "Python 3 (ipykernel)",
   "language": "python",
   "name": "python3"
  },
  "language_info": {
   "codemirror_mode": {
    "name": "ipython",
    "version": 3
   },
   "file_extension": ".py",
   "mimetype": "text/x-python",
   "name": "python",
   "nbconvert_exporter": "python",
   "pygments_lexer": "ipython3",
   "version": "3.11.8"
  }
 },
 "nbformat": 4,
 "nbformat_minor": 5
}
